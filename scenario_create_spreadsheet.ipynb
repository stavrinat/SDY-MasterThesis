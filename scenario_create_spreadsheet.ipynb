{
 "cells": [
  {
   "cell_type": "code",
   "execution_count": 1,
   "metadata": {},
   "outputs": [],
   "source": [
    "import json\n",
    "import requests\n",
    "import spacy\n",
    "import re\n",
    "import string\n",
    "import read_input_data as rid\n",
    "import tiger_tokenizer\n",
    "import tiger_lemmatizer\n",
    "import tiger_manage_tokens as tmt\n",
    "import tiger_visualizations as visual\n",
    "import tiger_tagger as tag\n",
    "import tiger_sentiment_analysis as sa\n",
    "import tiger_vector_generation_for_clustering as vg\n",
    "from collections import Counter\n",
    "from spacy.tokens import Doc\n",
    "\n",
    "# step 1: load data from file\n",
    "data_file = open(\"dummyData.txt\",\"r\")\n",
    "\n",
    "# step 2: create dictionary out of all the characteristic features (tokens or words) \n",
    "# of the documents collection\n",
    "\n",
    "# step 2.1 : tokenization\n",
    "data_to_tokenize = rid.all_answers(data_file)\n",
    "data_file.close()\n",
    "doc_tokenization = tiger_tokenizer.tokenization_process(data_to_tokenize)\n",
    "\n",
    "# step 2.2 : Lemmatization\n",
    "doc_lemmatization = tiger_lemmatizer.lemmatization_process(doc_tokenization)\n",
    "\n",
    "# step 2.3 : create dictionary/hashtable that contains the dictionary words\n",
    "dictionary = vg.create_dictionary_frequencies(doc_lemmatization)\n",
    "#print(dictionary)\n",
    "which_docs = vg.create_which_document(doc_lemmatization)\n",
    "#print(which_docs)\n",
    "\n",
    "# step 3 : create a spreadsheet of numeric data corresponding\n",
    "# to the document collection\n",
    "data_file = open(\"dummyData.txt\",\"r\")\n",
    "vg.create_spreadsheet(data_file,which_docs)\n",
    "data_file.close()\n",
    "\n"
   ]
  },
  {
   "cell_type": "code",
   "execution_count": null,
   "metadata": {},
   "outputs": [],
   "source": []
  }
 ],
 "metadata": {
  "kernelspec": {
   "display_name": "Python 3",
   "language": "python",
   "name": "python3"
  },
  "language_info": {
   "codemirror_mode": {
    "name": "ipython",
    "version": 3
   },
   "file_extension": ".py",
   "mimetype": "text/x-python",
   "name": "python",
   "nbconvert_exporter": "python",
   "pygments_lexer": "ipython3",
   "version": "3.7.8"
  }
 },
 "nbformat": 4,
 "nbformat_minor": 4
}
