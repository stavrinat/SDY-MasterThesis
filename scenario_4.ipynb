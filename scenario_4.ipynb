{
 "cells": [
  {
   "cell_type": "code",
   "execution_count": 1,
   "metadata": {},
   "outputs": [],
   "source": [
    "# using encoding='utf8'\n",
    "# reference : https://realpython.com/natural-language-processing-spacy-python/\n",
    "# reference : https://plotly.com/python/basic-charts/\n",
    "\n",
    "import json\n",
    "import requests\n",
    "import spacy\n",
    "import re\n",
    "import string\n",
    "import read_input_data as rid\n",
    "import tiger_tokenizer\n",
    "import tiger_lemmatizer\n",
    "import tiger_manage_tokens as tmt\n",
    "import tiger_visualizations_geo as geo\n",
    "import tiger_tagger as tag\n",
    "import tiger_sentiment_analysis as sa\n",
    "from collections import Counter\n",
    "from spacy.tokens import Doc\n",
    "\n",
    "\n",
    "# step 1: load data from url\n",
    "data_file = open(\"dummyData.txt\",\"r\")\n",
    "answers = rid.dict_of_all_answers_and_emotions(data_file)\n",
    "#print(answers)\n",
    "data_file.close()\n",
    "\n",
    "for key in answers:\n",
    "\n",
    "    # step 2: Tokenization\n",
    "    data_to_tokenize = answers[key][0]\n",
    "    doc_tokenization = tiger_tokenizer.tokenization_process(data_to_tokenize)\n",
    "\n",
    "    # step 3: Lemmatization\n",
    "    doc_lemmatization = tiger_lemmatizer.lemmatization_process(doc_tokenization)\n",
    "    #print(tmt.print_tokens(doc_lemmatization))\n",
    "\n",
    "    # step 4: sentiment analysis\n",
    "    answers[key][0] = doc_lemmatization\n",
    "    sa.sentiment_analysis_process3(answers[key])\n",
    "    #print(answers[key])\n",
    "    \n",
    "geo.visualization_google_map(answers)\n",
    "#geo.visualization_scatter_plot(answers)\n",
    "#geo.visualization_map(answers)"
   ]
  },
  {
   "cell_type": "code",
   "execution_count": null,
   "metadata": {},
   "outputs": [],
   "source": []
  },
  {
   "cell_type": "code",
   "execution_count": null,
   "metadata": {},
   "outputs": [],
   "source": []
  }
 ],
 "metadata": {
  "kernelspec": {
   "display_name": "Python 3",
   "language": "python",
   "name": "python3"
  },
  "language_info": {
   "codemirror_mode": {
    "name": "ipython",
    "version": 3
   },
   "file_extension": ".py",
   "mimetype": "text/x-python",
   "name": "python",
   "nbconvert_exporter": "python",
   "pygments_lexer": "ipython3",
   "version": "3.7.8"
  }
 },
 "nbformat": 4,
 "nbformat_minor": 4
}
